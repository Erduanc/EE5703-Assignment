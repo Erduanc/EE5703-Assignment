{
 "cells": [
  {
   "cell_type": "markdown",
   "id": "e07e3498",
   "metadata": {},
   "source": [
    "## Small Signal Model of Induction motor (EE5703 Assignment 1)\n",
    "The induction motor is a non-linear system. In dynamic equations we see the influence of motor angular velocity. In this assignment you are required to develop the small signal model of the induction motor at operating rotor angular velocity \n",
    "1. $\\omega = 0.2$, $\\omega = 0.5$ and $\\omega =1.0$\n",
    "2. First write the dynamic equations of the induction machine in stator coordinate systems with  state variables as stator current space vector, rotor flux space vector  (in their 2 components)  and rotor angular velocity,\n",
    "3. Develop the small signal model at an operating point of rotor angular velocity $\\omega = \\omega_0$, where $\\omega_0$ will be the 3 values given in item 1. Add a small signal perturbation $\\omega = \\omega_0 + \\Delta\\omega$ around the point and derive. \n",
    "4. Using the linearized small signal model of the system ($\\dot{\\mathbf{x}} = \\mathbf{Ax + Bu}$), find the eigenvalues of the matrix $\\mathbf{A}$ for the 3 operating points of  $\\omega$\n",
    "\n",
    "For machine parameters you can use normalized parameters of any machine. Alternatively you can use the parameters of machine mach_ma given below"
   ]
  },
  {
   "cell_type": "markdown",
   "id": "ece56129",
   "metadata": {},
   "source": [
    "## 1. System Modelling:"
   ]
  },
  {
   "cell_type": "markdown",
   "id": "41c945d9",
   "metadata": {},
   "source": [
    "## 1.1 System Dynamics in the Stator Coordinate"
   ]
  },
  {
   "cell_type": "markdown",
   "id": "0f2cdbf6",
   "metadata": {},
   "source": [
    "Describe the 4 by 4 system as:"
   ]
  },
  {
   "cell_type": "markdown",
   "id": "3d849f2d",
   "metadata": {},
   "source": [
    "\\begin{align}\n",
    "\\frac{d\\psi_{r\\alpha}}{d\\tau} & = -\\frac{r_r}{l_r}\\psi_{r\\alpha} + \\frac{l_h}{l_r}r_ri_{s\\alpha} - \\omega\\psi_{r\\beta}\\\\\n",
    "\\frac{d\\psi_{r\\beta}}{d\\tau} & = -\\frac{r_r}{l_r}\\psi_{r\\beta} + \\frac{l_h}{l_r}r_ri_{s\\beta} + \\omega\\psi_{r\\alpha}\\\\\n",
    "\\frac{d{i_{s\\alpha}}}{d\\tau} &= (\\frac{l_r}{l_sl_r-l_h^2})(\\frac{r_r}{l_r}\\psi_{r{\\alpha}} + \\omega\\psi_{r\\beta} - (\\frac{lh}{lr}r_r+r_s)i_{s_{\\alpha}} + v_{s_alpha})\\\\\n",
    "\\frac{d{i_{s\\beta}}}{d\\tau} &= (\\frac{l_r}{l_sl_r-l_h^2})(-\\omega\\psi_{r\\alpha} + \\frac{r_r}{l_r}\\psi_{r\\beta} + (\\frac{lh}{lr}r_r+r_s)i_{s_\\beta} + v_{s\\beta})\\\\\n",
    "\\frac{d\\omega}{d\\tau} &= \\frac{m_e - m_l}{t_{mech}}\\\\\n",
    "m_e &= \\frac{l_h}{l_r}(\\psi_{r{\\alpha}}i_{s{\\beta}} - \\psi_{r{\\beta}}i_{s{\\alpha}})\n",
    "\\end{align}"
   ]
  },
  {
   "cell_type": "markdown",
   "id": "4e08ca15",
   "metadata": {},
   "source": [
    "## 1.2 State Space Representation"
   ]
  },
  {
   "cell_type": "markdown",
   "id": "ad073bd2",
   "metadata": {},
   "source": [
    "## Submission\n",
    "1. Please submit the assignment in canvas folder by the end of the week13 (Sunday 13 Nov 2022)\n",
    "2. Please rename the file as your  MatriNo_Name_Assn1\n",
    "3. You may submit the jupyter notebook format or you can submit as pdf\n",
    "4. To generate pdf, in jupyter notebook go to File> Download as> and choose the format (.ipynb or .pdf)\n",
    "\n",
    "For more information on how to use Markdown cells in jupyter notebook (https://jupyter-notebook.readthedocs.io/en/stable/notebook.html), please refer to \n",
    "https://jupyter-notebook.readthedocs.io/en/stable/examples/Notebook/Working%20With%20Markdown%20Cells.html"
   ]
  },
  {
   "cell_type": "code",
   "execution_count": 3,
   "id": "a8eff4b3",
   "metadata": {},
   "outputs": [],
   "source": [
    "import numpy as np\n",
    "import matplotlib.pyplot as plt\n",
    "#Machine parameters\n",
    "\n",
    "#Dictionary - one of the data structures used in Python \n",
    "#Name of_dictionary = {'name of variable': value, \"nameof2ndvariable\": value2}\n",
    "mach_mc = {\"rs\": 0.009, \"rr\": 0.007, \"lh\": 4.14, \"ls\": 4.21, \"lr\": 4.21, \"tmech\":509.6}\n",
    "\n",
    "mach_mb = {\"rs\": 0.0185, \"rr\": 0.0132, \"lh\": 3.81, \"ls\": 3.9, \"lr\": 3.9, \"tmech\":397.31}\n",
    "\n",
    "mach_ma = {\"rs\": 0.015, \"rr\": 0.04, \"lh\": 2.31, \"ls\": 2.35, \"lr\": 2.35, \"tmech\":596.9}\n",
    "\n",
    "#mach_my = {\"rs\": 0.016, \"rr\": 0.05, \"lh\": 2.31, \"ls\": 2.35, \"lr\": 2.35, \"tmech\":596.9}\n",
    "\n",
    "mach_BM = {\"rs\": 0.0426, \"rr\": 0.02113, \"lh\": 2.252, \"ls\": 2.252+0.078, \"lr\": 2.252+0.1052, \"tmech\":200.}\n"
   ]
  },
  {
   "cell_type": "markdown",
   "id": "dbd9f940",
   "metadata": {},
   "source": [
    "### How to write equations in Markdown? \n",
    "You can select a cell in jupyter notebook as Markdown. Equations can be written using latex syntax as below \n",
    "\n",
    "$$\\frac{dx}{dt} +  = y$$\n",
    "\n",
    "or \n",
    "\\begin{align}\n",
    "\\frac{dx_1}{d\\tau} & = -\\frac{1}{\\tau_1}x_1 + bx_2 + K_1u_1 \\\\\n",
    "\\frac{dx_2}{d\\tau} &= -\\frac{1}{\\tau_2}x_2 + b_2x_1 + k_2u_1\n",
    "\\end{align}"
   ]
  },
  {
   "cell_type": "markdown",
   "id": "dc796229",
   "metadata": {},
   "source": [
    "### Eigenvalues uing scipy\n",
    "To find eigenvalues refer to https://docs.scipy.org/doc/scipy/reference/generated/scipy.linalg.eig.html "
   ]
  },
  {
   "cell_type": "code",
   "execution_count": 22,
   "id": "d762a79e",
   "metadata": {},
   "outputs": [
    {
     "name": "stdout",
     "output_type": "stream",
     "text": [
      "[ 6.39140851+0.j  3.25529508+0.j -1.44670358+0.j]\n"
     ]
    }
   ],
   "source": [
    "from scipy import linalg\n",
    "\n",
    "A = np.array([[5.5, 1, 1],\n",
    "             [1, 1.5, 2.6],\n",
    "             [1, 3, 1.2]])\n",
    "s = linalg.eigvals(A)\n",
    "print(s)"
   ]
  }
 ],
 "metadata": {
  "kernelspec": {
   "display_name": "Python 3 (ipykernel)",
   "language": "python",
   "name": "python3"
  },
  "language_info": {
   "codemirror_mode": {
    "name": "ipython",
    "version": 3
   },
   "file_extension": ".py",
   "mimetype": "text/x-python",
   "name": "python",
   "nbconvert_exporter": "python",
   "pygments_lexer": "ipython3",
   "version": "3.9.12"
  }
 },
 "nbformat": 4,
 "nbformat_minor": 5
}
