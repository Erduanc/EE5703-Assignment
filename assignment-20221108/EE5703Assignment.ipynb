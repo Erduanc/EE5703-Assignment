{
 "cells": [
  {
   "cell_type": "markdown",
   "id": "e07e3498",
   "metadata": {},
   "source": [
    "## Small Signal Model of Induction motor (EE5703 Assignment 1)\n",
    "The induction motor is a non-linear system. In dynamic equations we see the influence of motor angular velocity. In this assignment you are required to develop the small signal model of the induction motor at operating rotor angular velocity \n",
    "1. $\\omega = 0.2$, $\\omega = 0.5$ and $\\omega =1.0$\n",
    "2. First write the dynamic equations of the induction machine in stator coordinate systems with  state variables as stator current space vector, rotor flux space vector  (in their 2 components)  and rotor angular velocity,\n",
    "3. Develop the small signal model at an operating point of rotor angular velocity $\\omega = \\omega_0$, where $\\omega_0$ will be the 3 values given in item 1. Add a small signal perturbation $\\omega = \\omega_0 + \\Delta\\omega$ around the point and derive. \n",
    "4. Using the linearized small signal model of the system ($\\dot{\\mathbf{x}} = \\mathbf{Ax + Bu}$), find the eigenvalues of the matrix $\\mathbf{A}$ for the 3 operating points of  $\\omega$\n",
    "\n",
    "For machine parameters you can use normalized parameters of any machine. Alternatively you can use the parameters of machine mach_ma given below"
   ]
  },
  {
   "cell_type": "code",
   "execution_count": 1,
   "id": "a8eff4b3",
   "metadata": {},
   "outputs": [],
   "source": [
    "import numpy as np\n",
    "import matplotlib.pyplot as plt\n",
    "from scipy import linalg\n",
    "#Machine parameters\n",
    "\n",
    "#Dictionary - one of the data structures used in Python \n",
    "#Name of_dictionary = {'name of variable': value, \"nameof2ndvariable\": value2}\n",
    "mach_mc = {\"rs\": 0.009, \"rr\": 0.007, \"lh\": 4.14, \"ls\": 4.21, \"lr\": 4.21, \"tmech\":509.6}\n",
    "\n",
    "mach_mb = {\"rs\": 0.0185, \"rr\": 0.0132, \"lh\": 3.81, \"ls\": 3.9, \"lr\": 3.9, \"tmech\":397.31}\n",
    "\n",
    "mach_ma = {\"rs\": 0.015, \"rr\": 0.04, \"lh\": 2.31, \"ls\": 2.35, \"lr\": 2.35, \"tmech\":596.9}\n",
    "\n",
    "#mach_my = {\"rs\": 0.016, \"rr\": 0.05, \"lh\": 2.31, \"ls\": 2.35, \"lr\": 2.35, \"tmech\":596.9}\n",
    "\n",
    "mach_BM = {\"rs\": 0.0426, \"rr\": 0.02113, \"lh\": 2.252, \"ls\": 2.252+0.078, \"lr\": 2.252+0.1052, \"tmech\":200.}\n"
   ]
  },
  {
   "cell_type": "markdown",
   "id": "41c945d9",
   "metadata": {},
   "source": [
    "## 1. System Dynamics in the Stator Coordinate"
   ]
  },
  {
   "cell_type": "markdown",
   "id": "0f2cdbf6",
   "metadata": {},
   "source": [
    "Describe the 4 by 4 system as:"
   ]
  },
  {
   "cell_type": "code",
   "execution_count": 2,
   "id": "798c0cfa",
   "metadata": {},
   "outputs": [],
   "source": [
    "def getMechinePram():\n",
    "    rs = mach_ma[\"rs\"]\n",
    "    rr = mach_ma[\"rr\"]\n",
    "    lh = mach_ma['lh']\n",
    "    ls = mach_ma['ls']\n",
    "    lr = mach_ma['lr']\n",
    "#     sig= 1-(lh*lh)/(lr*ls)\n",
    "#     kr=lh/lr\n",
    "#     sigls=sig*ls\n",
    "#     tr=lr/rr\n",
    "#     rk=(rs+(kr)*(kr)*rr)\n",
    "#     tk=sigls/(rs+(kr)*(kr)*rr)\n",
    "    tmech = dict['tmech']\n",
    "#     print(\"lh = {0:1.3f}\".format(lh))\n",
    "    return rs,rr,lh,ls,lr,tmech"
   ]
  },
  {
   "cell_type": "markdown",
   "id": "3d849f2d",
   "metadata": {},
   "source": [
    "\\begin{align}\n",
    "\\frac{d\\psi_{r\\alpha}}{d\\tau} & = -\\frac{r_r}{l_r}\\psi_{r\\alpha} + \\frac{l_hr_r}{l_r}i_{s\\alpha} - \\omega\\psi_{r\\beta}\\\\\n",
    "\\frac{d\\psi_{r\\beta}}{d\\tau} & = -\\frac{r_r}{l_r}\\psi_{r\\beta} + \\frac{l_hr_r}{l_r}i_{s\\beta} + \\omega\\psi_{r_{\\alpha}}\\\\\n",
    "\\frac{d{i_{s\\alpha}}}{d\\tau} &= (\\frac{l_r}{l_sl_r-l_h^2})(\\frac{l_hr_r}{l_r^2}\\psi_{r{\\alpha}} + \\frac{l_h}{l_r}\\omega\\psi_{r\\beta} - (\\frac{l_h^2r_r}{l_r^2}+r_s)i_{s_{\\alpha}} + v_{s_{\\alpha}})\\\\\n",
    "\\frac{d{i_{s\\beta}}}{d\\tau} &= (\\frac{l_r}{l_sl_r-l_h^2})(\\frac{l_hr_r}{l_r^2}\\psi_{r{\\beta}} - \\frac{l_h}{l_r}\\omega\\psi_{r\\alpha} - (\\frac{l_h^2r_r}{l_r^2}+r_s)i_{s_{\\beta}} + v_{s_{\\beta}})\\\\\n",
    "\\frac{d\\omega}{d\\tau} &= \\frac{m_e - m_l}{t_{mech}}\\\\\n",
    "m_e &= \\frac{l_h}{l_r}(\\psi_{r{\\alpha}}i_{s{\\beta}} - \\psi_{r{\\beta}}i_{s{\\alpha}})\n",
    "\\end{align}"
   ]
  },
  {
   "cell_type": "markdown",
   "id": "8abc6190",
   "metadata": {},
   "source": [
    "<!-- \\begin{align}\n",
    "0 & = -\\frac{r_r}{l_r}\\psi_{r\\alpha} + \\frac{l_hr_r}{l_r}i_{s\\alpha} - \\omega\\psi_{r\\beta}\\\\\n",
    "0 & = -\\frac{r_r}{l_r}\\psi_{r\\beta} + \\frac{l_hr_r}{l_r}i_{s\\beta} + \\omega\\psi_{r_{\\alpha}}\\\\\n",
    "-v_{s_{\\alpha}} &= (\\frac{l_hr_r}{l_r^2}\\psi_{r{\\alpha}} + \\frac{l_h}{l_r}\\omega\\psi_{r\\beta} - (\\frac{l_h^2r_r}{l_r^2}+r_s)i_{s_{\\alpha}})\\\\\n",
    "-v_{s_{\\beta}} &= (\\frac{l_hr_r}{l_r^2}\\psi_{r{\\beta}} - \\frac{l_h}{l_r}\\omega\\psi_{r\\alpha} - (\\frac{l_h^2r_r}{l_r^2}+r_s)i_{s_{\\beta}})\\\\\n",
    "0 &= \\frac{m_e - m_l}{t_{mech}}\\\\\n",
    "m_e &= \\frac{l_h}{l_r}(\\psi_{r{\\alpha}}i_{s{\\beta}} - \\psi_{r{\\beta}}i_{s{\\alpha}})\n",
    "\\end{align} -->"
   ]
  },
  {
   "cell_type": "markdown",
   "id": "04a39754",
   "metadata": {},
   "source": [
    "## 2. Small Space Model"
   ]
  },
  {
   "cell_type": "markdown",
   "id": "fbd05f1a",
   "metadata": {},
   "source": [
    "It is clear that the system is not a linear system, since we have terms such as $\\omega\\psi_{r\\beta}$. To do linearlization, one should:  \n",
    "1. Find equalibrium point [$x_1, x_2, x_3, x_4, x_5$] = [$\\psi_{r\\alpha}, \\psi_{r\\beta}, i_{s\\alpha}, i_{s\\beta}, \\omega_0$] by letting the above equations equals to zero when $\\omega = \\omega_0$.\n",
    "2. Linearize as:\n",
    "\\begin{align}\n",
    "\\Delta{\\dot x} &= J  \\left[\n",
    " \\begin{matrix}\n",
    "   \\Delta x_1\\\\\n",
    "   \\Delta x_2 \\\\\n",
    "   \\Delta x_3\\\\\n",
    "   \\Delta x_4\\\\\n",
    "   \\Delta x_5\\\\\n",
    "  \\end{matrix}\n",
    "  \\right]\\\\\n",
    " J &= \\left[\n",
    " \\begin{matrix}\n",
    "   \\frac{d\\dot x_1}{dx_1} & \\frac{d\\dot x_1}{dx_2} & \\frac{d\\dot x_1}{dx_3} & \\frac{d\\dot x_1}{dx_4} & \\frac{d\\dot x_1}{dx_5}\\\\\n",
    "  \\frac{d\\dot x_2}{dx_1} & \\frac{d\\dot x_2}{dx_2} & \\frac{d\\dot x_2}{dx_3} & \\frac{d\\dot x_2}{dx_4} & \\frac{d\\dot x_2}{dx_5}\\\\\n",
    "   \\frac{d\\dot x_3}{dx_1} & \\frac{d\\dot x_3}{dx_2} & \\frac{d\\dot x_3}{dx_3} & \\frac{d\\dot x_3}{dx_4} & \\frac{d\\dot x_3}{dx_5}\\\\\n",
    "   \\frac{d\\dot x_4}{dx_1} & \\frac{d\\dot x_4}{dx_2} & \\frac{d\\dot x_4}{dx_3} & \\frac{d\\dot x_4}{dx_4} & \\frac{d\\dot x_4}{dx_5}\\\\\n",
    "   \\frac{d\\dot x_5}{dx_1} & \\frac{d\\dot x_5}{dx_2} & \\frac{d\\dot x_5}{dx_3} & \\frac{d\\dot x_5}{dx_4} & \\frac{d\\dot x_5}{dx_5}\\\\\n",
    "  \\end{matrix}\n",
    "  \\right]\n",
    "\\end{align}\n",
    "at the equibrilium point."
   ]
  },
  {
   "cell_type": "code",
   "execution_count": 17,
   "id": "4f2ff8b5",
   "metadata": {},
   "outputs": [],
   "source": [
    "def findEquiPoints(omega0):\n",
    "    rs,rr,lh,ls,lr,tmech = getMechinePram()\n",
    "    k = lr/(ls*lr-lh**2)\n",
    "    a11 = -rr/lr # psi alpha\n",
    "    a12 = -omega0 # psi beta\n",
    "    a13 = lh*rr/lr # i s alpha\n",
    "    a14 = 0 # i s beta\n",
    "    \n",
    "    a21 = omega0\n",
    "    a22 = -rr/lr\n",
    "    a23 = 0\n",
    "    a24 = lh*rr/lr\n",
    "    \n",
    "    a31 = k*lh*rr/lr**2\n",
    "    a32 = k*lh*omega0/lr\n",
    "    a33 = -k*(lh**2*rr/lr**2 + rs)\n",
    "    a34 = 0\n",
    "    \n",
    "    a41 = -k*lh*omega0/lr\n",
    "    a42 = k*lh*rr/lr**2\n",
    "    a43 = 0\n",
    "    a44 = -k*(lh**2*rr/lr**2 + rs)\n",
    "    \n",
    "#     b1, b2 = 0, 0\n",
    "#     b3 = -vsa\n",
    "#     b4 = -vsb\n",
    "    \n",
    "    A = np.array([[a11, a12, a13, a14],[a21, a22, a23, a24],[a31, a32, a33, a34],[a41, a42, a43, a44]])\n",
    "    detA = np.linalg.det(A)\n",
    "    print(detA)\n",
    "    if(detA == 0):\n",
    "        b = np.array([0, 0, 0, 0])\n",
    "        nullspace = null_space(A)\n",
    "        print(nullspace)\n",
    "        return nullspace\n",
    "#     x = np.linalg.solve(A, b)\n",
    "    return np.array([0, 0, 0, 0])"
   ]
  },
  {
   "cell_type": "code",
   "execution_count": 18,
   "id": "4dd694b5",
   "metadata": {},
   "outputs": [
    {
     "name": "stdout",
     "output_type": "stream",
     "text": [
      "0.0014408564580301575\n"
     ]
    },
    {
     "data": {
      "text/plain": [
       "array([0, 0, 0, 0])"
      ]
     },
     "execution_count": 18,
     "metadata": {},
     "output_type": "execute_result"
    }
   ],
   "source": [
    "findEquiPoints(0.2)"
   ]
  },
  {
   "cell_type": "markdown",
   "id": "3a0178c3",
   "metadata": {},
   "source": [
    "Since matrix A of the system is non-singular, the only equilibrium point is [0, 0, 0, 0, $\\omega_0$]. Do the derivative and substitute the point in the equations to get:"
   ]
  },
  {
   "cell_type": "markdown",
   "id": "8cfb150a",
   "metadata": {},
   "source": [
    "\\begin{align}\n",
    "\\frac{d\\Delta\\psi_{r\\alpha}}{d\\tau} & = -\\frac{r_r}{l_r}\\Delta\\psi_{r\\alpha} + \\frac{l_hr_r}{l_r}\\Delta i_{s\\alpha} - \\omega_0\\Delta\\psi_{r\\beta}\\\\\n",
    "\\frac{d\\Delta \\psi_{r\\beta}}{d\\tau} & = -\\frac{r_r}{l_r}\\Delta\\psi_{r\\beta} + \\frac{l_hr_r}{l_r}\\Delta i_{s\\beta} + \\omega_0\\Delta\\psi_{r_{\\alpha}}\\\\\n",
    "\\frac{d\\Delta {i_{s\\alpha}}}{d\\tau} &= (\\frac{l_r}{l_sl_r-l_h^2})(\\frac{l_hr_r}{l_r^2}\\Delta\\psi_{r{\\alpha}} + \\frac{l_h}{l_r}\\omega_0\\Delta\\psi_{r\\beta} - (\\frac{l_h^2r_r}{l_r^2}+r_s)\\Delta i_{s_{\\alpha}} + v_{s_{\\alpha}})\\\\\n",
    "\\frac{d\\Delta {i_{s\\beta}}}{d\\tau} &= (\\frac{l_r}{l_sl_r-l_h^2})(\\frac{l_hr_r}{l_r^2}\\Delta\\psi_{r{\\beta}} - \\frac{l_h}{l_r}\\omega_0\\Delta\\psi_{r\\alpha} - (\\frac{l_h^2r_r}{l_r^2}+r_s)\\Delta i_{s_{\\beta}} + v_{s_{\\beta}})\\\\\n",
    "\\frac{d\\Delta \\omega}{d\\tau} &= 0\n",
    "\\end{align}"
   ]
  },
  {
   "cell_type": "markdown",
   "id": "899cdc89",
   "metadata": {},
   "source": [
    "Thus, the state space model is:"
   ]
  },
  {
   "cell_type": "markdown",
   "id": "fef5527e",
   "metadata": {},
   "source": [
    "\\begin{align}\n",
    "\\dot x = Ax+Bu\n",
    "\\end{align}"
   ]
  },
  {
   "cell_type": "markdown",
   "id": "c27897e0",
   "metadata": {},
   "source": [
    "## 3. Eigenvalues of the Small Signal System:"
   ]
  },
  {
   "cell_type": "code",
   "execution_count": 22,
   "id": "1cb5c276",
   "metadata": {},
   "outputs": [],
   "source": [
    "def findEigenvaluesOfA(omega0):\n",
    "    rs,rr,lh,ls,lr,tmech = getMechinePram()\n",
    "    k = lr/(ls*lr-lh**2)\n",
    "    a11 = -rr/lr # psi alpha\n",
    "    a12 = -omega0 # psi beta\n",
    "    a13 = lh*rr/lr # i s alpha\n",
    "    a14 = 0 # i s beta\n",
    "    a15 = 0\n",
    "    \n",
    "    a21 = omega0\n",
    "    a22 = -rr/lr\n",
    "    a23 = 0\n",
    "    a24 = lh*rr/lr\n",
    "    a25 = 0\n",
    "    \n",
    "    a31 = k*lh*rr/lr**2\n",
    "    a32 = k*lh*omega0/lr\n",
    "    a33 = -k*(lh**2*rr/lr**2 + rs)\n",
    "    a34 = 0\n",
    "    a35 = 0\n",
    "    \n",
    "    a41 = -k*lh*omega0/lr\n",
    "    a42 = k*lh*rr/lr**2\n",
    "    a43 = 0\n",
    "    a44 = -k*(lh**2*rr/lr**2 + rs)\n",
    "    a45 = 0\n",
    "    \n",
    "    a51 = 0\n",
    "    a52 = 0\n",
    "    a53 = 0\n",
    "    a54 = 0\n",
    "    a55 = 0\n",
    "    \n",
    "    A = np.array([[a11, a12, a13, a14, a15],[a21, a22, a23, a24, a25],[a31, a32, a33, a34, a35],\n",
    "                  [a41, a42, a43, a44, a45], [a51, a52, a53, a54, a55]])\n",
    "    s = linalg.eigvals(A)\n",
    "    \n",
    "    return s"
   ]
  },
  {
   "cell_type": "code",
   "execution_count": 23,
   "id": "10820ee9",
   "metadata": {},
   "outputs": [
    {
     "name": "stdout",
     "output_type": "stream",
     "text": [
      "eigenvalue of A for $\\omega_0 = 0.2$:\n",
      "[-0.67723893+0.14767714j -0.67723893-0.14767714j -0.01616235+0.05232286j\n",
      " -0.01616235-0.05232286j  0.        +0.j        ]\n",
      "eigenvalue of A for $\\omega_0 = 0.5$:\n",
      "[-0.620817  +0.39372656j -0.620817  -0.39372656j -0.07258429+0.10627344j\n",
      " -0.07258429-0.10627344j  0.        +0.j        ]\n",
      "eigenvalue of A for $\\omega_0 = 1.0$:\n",
      "[-0.53802134+0.91185089j -0.53802134-0.91185089j -0.15537994+0.08814911j\n",
      " -0.15537994-0.08814911j  0.        +0.j        ]\n"
     ]
    }
   ],
   "source": [
    "print(\"eigenvalue of A for $\\omega_0 = 0.2$:\")\n",
    "print(findEigenvaluesOfA(0.2))\n",
    "print(\"eigenvalue of A for $\\omega_0 = 0.5$:\")\n",
    "print(findEigenvaluesOfA(0.5))\n",
    "print(\"eigenvalue of A for $\\omega_0 = 1.0$:\")\n",
    "print(findEigenvaluesOfA(1.0))"
   ]
  }
 ],
 "metadata": {
  "kernelspec": {
   "display_name": "Python 3 (ipykernel)",
   "language": "python",
   "name": "python3"
  },
  "language_info": {
   "codemirror_mode": {
    "name": "ipython",
    "version": 3
   },
   "file_extension": ".py",
   "mimetype": "text/x-python",
   "name": "python",
   "nbconvert_exporter": "python",
   "pygments_lexer": "ipython3",
   "version": "3.9.12"
  }
 },
 "nbformat": 4,
 "nbformat_minor": 5
}
